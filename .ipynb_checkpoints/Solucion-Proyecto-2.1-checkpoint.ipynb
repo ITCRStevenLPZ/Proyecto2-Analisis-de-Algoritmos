{
 "cells": [
  {
   "cell_type": "markdown",
   "metadata": {},
   "source": [
    "# Solución Proyecto 2"
   ]
  },
  {
   "cell_type": "markdown",
   "metadata": {},
   "source": [
    "## Problema"
   ]
  },
  {
   "cell_type": "markdown",
   "metadata": {},
   "source": [
    "El problema consiste en implementar una solución al problema del vendedor viajero utilizando la técnica de algoritmos genéticos y la técnica de simulated anealling. Esto incluye la implementación de un objeto de dominio que modele el problema en cuestión.\n",
    "Cada algoritmo debe ejecutarse en un tiempo menor a 30 minutos utilizando la matriz de adyacencia que es brindada. Por tanto, el objetivo de este cuaderno es el desarrollar una investigación empírica, en la cual se demuestre el desempeño y los parametros idóneos para que estos algoritmos se ejecuten de la mejor manera posible, en búsqueda de eficiencia temporal y de resultados correctos."
   ]
  },
  {
   "cell_type": "markdown",
   "metadata": {},
   "source": [
    "## Conceptos"
   ]
  },
  {
   "cell_type": "markdown",
   "metadata": {},
   "source": [
    "Para entender de manera correcta los problemas, es necesario conocer de algunos conceptos que facilitarán el comprendimiento de esta seción."
   ]
  },
  {
   "cell_type": "markdown",
   "metadata": {},
   "source": [
    "### ¿Qué es un Algoritmo Genético?"
   ]
  },
  {
   "cell_type": "markdown",
   "metadata": {},
   "source": [
    "La técnica de los algoritmos geneticos se inspira en el proceso darwiniano de evolución por selección natural. Consiste en generar una serie de soluciones al azar, tomar una fracción de las mejor evaluadas, y a partir de ellas producir un nuevo conjunto de soluciones. Este proceso se repite varias veces buscando una convergencia hacia las mejores soluciones posibles (Mungía. D, 2020)."
   ]
  },
  {
   "cell_type": "markdown",
   "metadata": {},
   "source": [
    "El supuesto detrás de este mecanismo es que una combinación de soluciones buenas puede producir solucionesaún mejores.(Mungía. D, 2020)\n",
    "Según Mungia, el algoritmo sigue este esquema de pasos:\n",
    "1. Generar una población de soluciones al azar.\n",
    "2. Evaluar la población.\n",
    "3. Seleccionar una élite, las mejores soluciones de la población.\n",
    "4. Producir una nueva generación de soluciones a partir de cruzamiento y mutación de la élite.\n",
    "5. Repetir a partir de paso (2) con nueva generación\n",
    "\n",
    "![Pasos Algoritmo Genético](https://www.researchgate.net/profile/Jose_Moreno-Perez/publication/38292778/figure/fig2/AS:669371789766661@1536602079165/Figura-5-Esquema-de-funcionamiento-de-un-algoritmo-genetico.png)\n",
    "\n",
    "Figura 1: Pasos de Algoritmos Genéticos. Recuperado de: https://www.researchgate.net/figure/Figura-5-Esquema-de-funcionamiento-de-un-algoritmo-genetico_fig2_38292778"
   ]
  },
  {
   "cell_type": "markdown",
   "metadata": {},
   "source": [
    "### ¿En qué consiste la técnica Simulated Anealling?"
   ]
  },
  {
   "cell_type": "markdown",
   "metadata": {},
   "source": [
    "Annealing, por su nombre en inglés es un proceso metalúrgico en el que se calienta un metal a altas temperaturas y luego se le deja enfriar lentamente. Este proceso tiene como objetivo alterar algunas propiedades del metal como su dureza o maleabilidad. El cambio se logra gracias a que el proceso de calentamiento aumenta laenergía en los átomos y luego el enfriamiento produce nuevas configuraciones atómicas de baja energía.(Mungía, 2020)\n",
    "\n",
    "El algoritmo de simulated annealing es metáfora de este proceso. El mecanismo es similar a los dos algoritmos anteriores, se generan soluciones al azar y luego aplicando pequeños cambios se producen nuevas soluciones. Cada solución es evaluada, y se busca optimizar su costo.(Mungía, 2020)\n",
    "\n",
    "![Annealing](https://upload.wikimedia.org/wikipedia/commons/1/10/Travelling_salesman_problem_solved_with_simulated_annealing.gif)\n",
    "\n",
    "Figura 2: Ejemplo de implemetación de Simulated Annealing. Recuperado de https://commons.wikimedia.org/wiki/File:Travelling_salesman_problem_solved_with_simulated_annealing.gif"
   ]
  },
  {
   "cell_type": "markdown",
   "metadata": {},
   "source": [
    "### ¿En qué consiste el problema del Vendedor Viajero?"
   ]
  },
  {
   "cell_type": "markdown",
   "metadata": {},
   "source": [
    "El problema del Venderdor Viajero (TSP, siglas en Inglés) consiste en que dada una cantidad de ciudades y distancias entre parejas de estas ciudades, encontrar el camino o ruta más corta que visite cada ciudad una única vez y que se regrese al punto de partida. \n",
    "![Ejemplo de Vendedor Viajero](https://i.ibb.co/tDzdWnj/TSP.png)\n",
    "Imagen 3: Ejemplo de Vendedor Viajero. Recuperada de: https://www.geeksforgeeks.org/travelling-salesman-problem-implementation-using-backtracking/ \n",
    "\n",
    "El problema principal de este problema es que es NP Dificil, lo que significa que no hay solución con tiempo polinómico conocido."
   ]
  },
  {
   "cell_type": "markdown",
   "metadata": {},
   "source": [
    "## Hipótesis"
   ]
  },
  {
   "cell_type": "markdown",
   "metadata": {},
   "source": [
    "## Metodología"
   ]
  },
  {
   "cell_type": "markdown",
   "metadata": {},
   "source": [
    "### Pruebas"
   ]
  },
  {
   "cell_type": "code",
   "execution_count": null,
   "metadata": {},
   "outputs": [],
   "source": []
  },
  {
   "cell_type": "markdown",
   "metadata": {},
   "source": [
    "## Análisis de Resultados"
   ]
  },
  {
   "cell_type": "markdown",
   "metadata": {},
   "source": [
    "## Conclusiones"
   ]
  },
  {
   "cell_type": "markdown",
   "metadata": {},
   "source": [
    "## Referencias"
   ]
  },
  {
   "cell_type": "markdown",
   "metadata": {},
   "source": [
    "\"Travelling Salesman Problem implementation using BackTracking\". GeeksforGeeks. Recuperado de: https://www.geeksforgeeks.org/travelling-salesman-problem-implementation-using-backtracking/\n",
    "\n",
    "Mungía Molina, D. (2020, July). Capítulo 10. Algoritmos probabilísticos [Pdf]. TEC. "
   ]
  }
 ],
 "metadata": {
  "kernelspec": {
   "display_name": "Python 3",
   "language": "python",
   "name": "python3"
  },
  "language_info": {
   "codemirror_mode": {
    "name": "ipython",
    "version": 3
   },
   "file_extension": ".py",
   "mimetype": "text/x-python",
   "name": "python",
   "nbconvert_exporter": "python",
   "pygments_lexer": "ipython3",
   "version": "3.7.5"
  }
 },
 "nbformat": 4,
 "nbformat_minor": 4
}
